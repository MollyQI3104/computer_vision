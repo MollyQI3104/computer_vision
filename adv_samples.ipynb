{
  "nbformat": 4,
  "nbformat_minor": 0,
  "metadata": {
    "colab": {
      "name": "adv_samples.ipynb",
      "provenance": [],
      "collapsed_sections": [],
      "include_colab_link": true
    },
    "kernelspec": {
      "name": "python3",
      "display_name": "Python 3"
    },
    "accelerator": "GPU"
  },
  "cells": [
    {
      "cell_type": "markdown",
      "metadata": {
        "id": "view-in-github",
        "colab_type": "text"
      },
      "source": [
        "<a href=\"https://colab.research.google.com/github/MollyQI3104/computer_vision/blob/master/adv_samples.ipynb\" target=\"_parent\"><img src=\"https://colab.research.google.com/assets/colab-badge.svg\" alt=\"Open In Colab\"/></a>"
      ]
    },
    {
      "cell_type": "code",
      "metadata": {
        "id": "CuWeMO95J2Y0",
        "colab_type": "code",
        "colab": {}
      },
      "source": [
        "# To do this, we will need \n",
        "# i)  Two Dataloaders; MNIST, USPS\n",
        "# ii) Four Networks;  LeNet-MNIST, LeNet-USPS\n",
        "#iii) Train the four networks.\n",
        "# iv) Make adv. samples.\n",
        "# v)  Analyze them.\n",
        "\n",
        "import os, sys\n",
        "import torch\n",
        "import torch.nn as nn\n",
        "import torch.nn.functional as F\n",
        "import matplotlib.pyplot as plt\n",
        "import torchvision\n",
        "import torch.optim as optim\n",
        "from torchvision import datasets, transforms\n",
        "from torch.autograd import Variable\n",
        "import numpy as np\n",
        "from PIL import Image\n",
        "import torch.utils as utils\n",
        "from google.colab import drive\n",
        "import matplotlib.pyplot as plt\n",
        "from IPython.display import clear_output, display\n",
        "\n",
        "lr = 0.001"
      ],
      "execution_count": 0,
      "outputs": []
    },
    {
      "cell_type": "code",
      "metadata": {
        "id": "OEef-slUfxyw",
        "colab_type": "code",
        "colab": {}
      },
      "source": [
        "# Define LeNet\n",
        "class LeNet(nn.Module):\n",
        "  def __init__(self, input_dim=1, num_class=10):\n",
        "    super(LeNet, self).__init__()\n",
        "\n",
        "    # Convolutional layers\n",
        "    self.conv1 = nn.Conv2d(input_dim, 20,  kernel_size=5, stride=1, padding=0)\n",
        "    self.conv2 = nn.Conv2d(    20,    50,  kernel_size=5, stride=1, padding=0)\n",
        "    self.avgpool = nn.AdaptiveAvgPool2d((1, 1))\n",
        "\n",
        "    # Fully connected layers\n",
        "    self.fc1 = nn.Linear(50, 500)\n",
        "    self.fc2 = nn.Linear(500, num_class)\n",
        "    \n",
        "    # Activation func.\n",
        "    self.relu = nn.ReLU()\n",
        "\n",
        "  def forward(self, x):\n",
        "    x = self.relu(self.conv1(x))        # Conv.-> ReLU\n",
        "    x = F.max_pool2d(x, kernel_size=2, stride=2)  # Pooling with 2x2 window\n",
        "    x = self.relu(self.conv2(x))        # Conv.-> ReLU\n",
        "    x = F.max_pool2d(x, kernel_size=2, stride=2)  # Pooling with 2x2 window\n",
        "\n",
        "    x = self.avgpool(x)\n",
        "    b,c,h,w = x.size()                  # batch, channels, height, width\n",
        "    x = x.view(b, -1)                   # flatten the tensor x\n",
        "\n",
        "    x = self.relu(self.fc1(x))          # fc-> ReLU\n",
        "    x = self.fc2(x)                     # fc\n",
        "    return x"
      ],
      "execution_count": 0,
      "outputs": []
    },
    {
      "cell_type": "code",
      "metadata": {
        "id": "no8Qg49lheYJ",
        "colab_type": "code",
        "outputId": "88904a4f-f38d-4dab-9aca-818e4aeb4ad8",
        "colab": {
          "base_uri": "https://localhost:8080/",
          "height": 259
        }
      },
      "source": [
        "# Make MINIST dataloaders\n",
        "transform = transforms.Compose([transforms.ToTensor(), transforms.Normalize((0.1307,), (0.3081,))])\n",
        "mnist_train = datasets.MNIST('./data', train=True,  download=True, transform=transform)\n",
        "mnist_test  = datasets.MNIST('./data', train=False, download=True, transform=transform)\n",
        "mnist_trainloader = utils.data.DataLoader(mnist_train, batch_size=50, shuffle=True,  num_workers=2)\n",
        "mnist_testloader  = utils.data.DataLoader(mnist_test,  batch_size=1,  shuffle=False, num_workers=2)"
      ],
      "execution_count": 0,
      "outputs": [
        {
          "output_type": "stream",
          "text": [
            "\r0it [00:00, ?it/s]"
          ],
          "name": "stderr"
        },
        {
          "output_type": "stream",
          "text": [
            "Downloading http://yann.lecun.com/exdb/mnist/train-images-idx3-ubyte.gz to ./data/MNIST/raw/train-images-idx3-ubyte.gz\n"
          ],
          "name": "stdout"
        },
        {
          "output_type": "stream",
          "text": [
            "9920512it [00:01, 8059816.94it/s]                            \n"
          ],
          "name": "stderr"
        },
        {
          "output_type": "stream",
          "text": [
            "Extracting ./data/MNIST/raw/train-images-idx3-ubyte.gz to ./data/MNIST/raw\n"
          ],
          "name": "stdout"
        },
        {
          "output_type": "stream",
          "text": [
            "  0%|          | 0/28881 [00:00<?, ?it/s]"
          ],
          "name": "stderr"
        },
        {
          "output_type": "stream",
          "text": [
            "Downloading http://yann.lecun.com/exdb/mnist/train-labels-idx1-ubyte.gz to ./data/MNIST/raw/train-labels-idx1-ubyte.gz\n"
          ],
          "name": "stdout"
        },
        {
          "output_type": "stream",
          "text": [
            "32768it [00:00, 134182.87it/s]           \n",
            "  0%|          | 0/1648877 [00:00<?, ?it/s]"
          ],
          "name": "stderr"
        },
        {
          "output_type": "stream",
          "text": [
            "Extracting ./data/MNIST/raw/train-labels-idx1-ubyte.gz to ./data/MNIST/raw\n",
            "Downloading http://yann.lecun.com/exdb/mnist/t10k-images-idx3-ubyte.gz to ./data/MNIST/raw/t10k-images-idx3-ubyte.gz\n"
          ],
          "name": "stdout"
        },
        {
          "output_type": "stream",
          "text": [
            "1654784it [00:00, 2179635.29it/s]                           \n",
            "0it [00:00, ?it/s]"
          ],
          "name": "stderr"
        },
        {
          "output_type": "stream",
          "text": [
            "Extracting ./data/MNIST/raw/t10k-images-idx3-ubyte.gz to ./data/MNIST/raw\n",
            "Downloading http://yann.lecun.com/exdb/mnist/t10k-labels-idx1-ubyte.gz to ./data/MNIST/raw/t10k-labels-idx1-ubyte.gz\n"
          ],
          "name": "stdout"
        },
        {
          "output_type": "stream",
          "text": [
            "8192it [00:00, 49529.26it/s]            \n"
          ],
          "name": "stderr"
        },
        {
          "output_type": "stream",
          "text": [
            "Extracting ./data/MNIST/raw/t10k-labels-idx1-ubyte.gz to ./data/MNIST/raw\n",
            "Processing...\n",
            "Done!\n"
          ],
          "name": "stdout"
        }
      ]
    },
    {
      "cell_type": "code",
      "metadata": {
        "id": "jCzNDawShxHZ",
        "colab_type": "code",
        "outputId": "3cc2a3ea-6a38-4ef5-9ffb-df0f344b8cec",
        "colab": {
          "base_uri": "https://localhost:8080/",
          "height": 86
        }
      },
      "source": [
        "# Make USPS dataloaders\n",
        "transform = transforms.Compose([transforms.Resize(size=(28, 28), interpolation=Image.BICUBIC),transforms.ToTensor(), transforms.Normalize((0.1307,), (0.3081,))])\n",
        "usps_train = datasets.USPS('./data', train=True,  download=True, transform=transform)\n",
        "usps_test  = datasets.USPS('./data', train=False, download=True, transform=transform)\n",
        "usps_trainloader = utils.data.DataLoader(usps_train, batch_size=50, shuffle=True,  num_workers=2)\n",
        "usps_testloader  = utils.data.DataLoader(usps_test,  batch_size=1,  shuffle=False, num_workers=2)"
      ],
      "execution_count": 0,
      "outputs": [
        {
          "output_type": "stream",
          "text": [
            "\r0it [00:00, ?it/s]"
          ],
          "name": "stderr"
        },
        {
          "output_type": "stream",
          "text": [
            "Downloading https://www.csie.ntu.edu.tw/~cjlin/libsvmtools/datasets/multiclass/usps.bz2 to ./data/usps.bz2\n"
          ],
          "name": "stdout"
        },
        {
          "output_type": "stream",
          "text": [
            "6586368it [00:04, 1430073.54it/s]                            \n",
            "0it [00:00, ?it/s]"
          ],
          "name": "stderr"
        },
        {
          "output_type": "stream",
          "text": [
            "Downloading https://www.csie.ntu.edu.tw/~cjlin/libsvmtools/datasets/multiclass/usps.t.bz2 to ./data/usps.t.bz2\n"
          ],
          "name": "stdout"
        },
        {
          "output_type": "stream",
          "text": [
            "1835008it [00:03, 590632.75it/s]                             \n"
          ],
          "name": "stderr"
        }
      ]
    },
    {
      "cell_type": "code",
      "metadata": {
        "id": "H1OIMFBs9m4G",
        "colab_type": "code",
        "colab": {}
      },
      "source": [
        "def plot_traininigloss(loss_rec, tag):\n",
        "    plt.clf()\n",
        "    plt.grid(linestyle='-')\n",
        "    plt.plot(loss_rec)\n",
        "    plt.title(tag+\" training loss plot\")\n",
        "    plt.ylabel(\"Loss\")\n",
        "    plt.show()"
      ],
      "execution_count": 0,
      "outputs": []
    },
    {
      "cell_type": "code",
      "metadata": {
        "id": "LaBYJadqhxJy",
        "colab_type": "code",
        "colab": {}
      },
      "source": [
        "# Script for training a network\n",
        "def train_model(net, optimizer, dataloader, loss_func, epoch_size=2, use_gpu=True):\n",
        "    loss_rec    = []    # For plotting loss\n",
        "    for epoch in range(epoch_size):\n",
        "        running_loss = 0.0\n",
        "        ct_num = 0\n",
        "        for iteration, data in enumerate(dataloader):\n",
        "            inputs, labels = data\n",
        "            if use_gpu:\n",
        "                inputs = inputs.cuda()\n",
        "                labels = labels.cuda()\n",
        "\n",
        "            optimizer.zero_grad()\n",
        "            outputs = net(inputs)\n",
        "            loss    = loss_func(outputs, labels)\n",
        "            loss.backward()\n",
        "            optimizer.step()\n",
        "        \n",
        "            with torch.no_grad():\n",
        "                running_loss+= loss.item()\n",
        "                ct_num+= 1\n",
        "                if iteration%10 == 9:\n",
        "                    clear_output(wait=True)\n",
        "                    print(\"Epoch [\"+str(epoch+1)+\"/\"+str(epoch_size)+\"], Iteration: \"+str(iteration+1)+\", Loss: \"+str(running_loss/ct_num)+'.')\n",
        "                    loss_rec.append(running_loss/ct_num)\n",
        "    return loss_rec"
      ],
      "execution_count": 0,
      "outputs": []
    },
    {
      "cell_type": "code",
      "metadata": {
        "id": "WtGiuBFjnx62",
        "colab_type": "code",
        "colab": {}
      },
      "source": [
        "# Script for testing a network\n",
        "def evaluate_model(net, dataloader, tag, Pretrained=None, resize_to=None):\n",
        "    print(\"Testing the network...\")\n",
        "    if not Pretrained is None:\n",
        "        net.load_state_dict(torch.load(Pretrained))\n",
        "    net.eval()\n",
        "    total_num   = 0\n",
        "    correct_num = 0\n",
        "    for test_iter, test_data in enumerate(dataloader):\n",
        "        # Get one batch of test samples\n",
        "        inputs, labels = test_data    \n",
        "        if not resize_to is None:\n",
        "            inputs = F.interpolate(inputs, size=resize_to, mode='bicubic')\n",
        "        bch = inputs.size(0)\n",
        "\n",
        "        # Move inputs and labels into GPU\n",
        "        inputs = inputs.cuda()\n",
        "        labels = torch.LongTensor(list(labels)).cuda()\n",
        "\n",
        "        # Forward\n",
        "        outputs = net(inputs)   \n",
        "\n",
        "        # Get predicted classes\n",
        "        _, pred_cls = torch.max(outputs, 1)\n",
        "#        if total_num == 0:\n",
        "#           print(\"True label:\\n\", labels)\n",
        "#           print(\"Prediction:\\n\", pred_cls)\n",
        "        # Record test resultplot_traininigloss\n",
        "        correct_num+= (pred_cls == labels).float().sum().item()\n",
        "        total_num+= bch\n",
        "#    net.train()\n",
        "    print(tag+\"- accuracy: \"+\"%.2f\"%(correct_num/float(total_num)))"
      ],
      "execution_count": 0,
      "outputs": []
    },
    {
      "cell_type": "code",
      "metadata": {
        "id": "OPSwLvCZu-Zy",
        "colab_type": "code",
        "outputId": "79f13fb0-49bd-485e-816a-50da532df0c8",
        "colab": {
          "base_uri": "https://localhost:8080/",
          "height": 333
        }
      },
      "source": [
        "# Train the two network on MNIST, save the trained models in Google Drive.\n",
        "drive.mount('/content/gdrive/')\n",
        "save_root = F\"/content/gdrive/My Drive/\"\n",
        "save_pth_lenet   = save_root+'lenet_mnist.pt'\n",
        "#save_pth_alexnet = save_root+'alexnet_mnist.pt'\n",
        "lenet   = LeNet().cuda()\n",
        "#alexnet = AlexNet().cuda()\n",
        "lenet_optimizer   = optim.SGD(lenet.parameters(),   lr=lr, momentum=0.9)\n",
        "#alexnet_optimizer = optim.SGD(alexnet.parameters(), lr=lr, momentum=0.9)\n",
        "loss_func = nn.CrossEntropyLoss()\n",
        "\n",
        "# Train lenet on MNIST.\n",
        "lenet_loss_rec = train_model(lenet, lenet_optimizer, mnist_trainloader, loss_func, epoch_size=10, use_gpu=True)\n",
        "torch.save(lenet.state_dict(), save_pth_lenet)\n",
        "\n",
        "# Train alexnet on MNIST\n",
        "# alexnet_loss_rec = train_model(alexnet, alexnet_optimizer, mnist_trainloader, loss_func, epoch_size=20, use_gpu=True)\n",
        "# torch.save(alexnet.state_dict(), save_pth_alexnet)\n",
        "\n",
        "# Test them.\n",
        "evaluate_model(lenet,   mnist_testloader, tag='lenet')\n",
        "#evaluate_model(alexnet, mnist_testloader, tag='alexnet')\n",
        "\n",
        "# Plot figures\n",
        "plot_traininigloss(lenet_loss_rec,   tag='lenet')\n",
        "#plot_traininigloss(alexnet_loss_rec, tag='alexnet')"
      ],
      "execution_count": 0,
      "outputs": [
        {
          "output_type": "stream",
          "text": [
            "Epoch [10/10], Iteration: 1200, Loss: 0.09245607712034447.\n",
            "Testing the network...\n",
            "lenet- accuracy: 0.97\n"
          ],
          "name": "stdout"
        },
        {
          "output_type": "display_data",
          "data": {
            "image/png": "[encoded data removed]",
            "text/plain": [
              "<Figure size 432x288 with 1 Axes>"
            ]
          },
          "metadata": {
            "tags": []
          }
        }
      ]
    },
    {
      "cell_type": "code",
      "metadata": {
        "id": "PLq5X7s6zEDM",
        "colab_type": "code",
        "outputId": "d2570f66-b23b-4a66-c677-eec9f4752a27",
        "colab": {
          "base_uri": "https://localhost:8080/",
          "height": 635
        }
      },
      "source": [
        "# Train the two network on USPS, save the trained models in Google Drive.\n",
        "drive.mount('/content/gdrive/')\n",
        "save_root = F\"/content/gdrive/My Drive/\"\n",
        "save_pth_lenet   = save_root+'lenet_usps.pt'\n",
        "#save_pth_alexnet = save_root+'alexnet_usps.pt'\n",
        "lenet   = LeNet().cuda()\n",
        "#alexnet = AlexNet().cuda()\n",
        "lenet_optimizer   = optim.SGD(lenet.parameters(),   lr=lr, momentum=0.9)\n",
        "#alexnet_optimizer = optim.SGD(alexnet.parameters(), lr=lr, momentum=0.9)\n",
        "loss_func = nn.CrossEntropyLoss()\n",
        "\n",
        "# Train lenet on USPS.\n",
        "lenet_loss_rec = train_model(lenet, lenet_optimizer, usps_trainloader, loss_func, epoch_size=50, use_gpu=True)\n",
        "torch.save(lenet.state_dict(), save_pth_lenet)\n",
        "# # Train alexnet on USPS\n",
        "# alexnet_loss_rec = train_model(alexnet, alexnet_optimizer, usps_trainloader, loss_func, epoch_size=100, use_gpu=True)\n",
        "# torch.save(alexnet.state_dict(), save_pth_alexnet)\n",
        "# Test them.\n",
        "evaluate_model(lenet,   usps_testloader, tag='lenet')\n",
        "#evaluate_model(alexnet, usps_testloader, tag='alexnet')\n",
        "\n",
        "#Plot figures\n",
        "plot_traininigloss(lenet_loss_rec,   tag='lenet')\n",
        "#plot_traininigloss(alexnet_loss_rec, tag='alexnet')\n",
        "\n"
      ],
      "execution_count": 0,
      "outputs": [
        {
          "output_type": "stream",
          "text": [
            "Epoch [100/100], Iteration: 140, Loss: 0.015912716004614986.\n",
            "Testing the network...\n",
            "lenet- accuracy: 0.93\n",
            "Testing the network...\n",
            "alexnet- accuracy: 0.97\n"
          ],
          "name": "stdout"
        },
        {
          "output_type": "display_data",
          "data": {
            "image/png": "[encoded data removed]",
            "text/plain": [
              "<Figure size 432x288 with 1 Axes>"
            ]
          },
          "metadata": {
            "tags": []
          }
        },
        {
          "output_type": "display_data",
          "data": {
            "image/png": "[encoded data removed]",
            "text/plain": [
              "<Figure size 432x288 with 1 Axes>"
            ]
          },
          "metadata": {
            "tags": []
          }
        }
      ]
    },
    {
      "cell_type": "code",
      "metadata": {
        "id": "sTznGdWXNEPh",
        "colab_type": "code",
        "colab": {}
      },
      "source": [
        "# FGSM attack code from pytorch tutorials.\n",
        "def fgsm_attack(image, epsilon, data_grad):\n",
        "    # Collect the element-wise sign of the data gradient\n",
        "    sign_data_grad = data_grad.sign()\n",
        "    # Create the perturbed image by adjusting each pixel of the input image\n",
        "    perturbed_image = image + epsilon*sign_data_grad\n",
        "    # Adding clipping to maintain [0,1] range\n",
        "    perturbed_image = torch.clamp(perturbed_image, 0, 1)\n",
        "    # Return the perturbed image\n",
        "    return perturbed_image\n",
        "    "
      ],
      "execution_count": 0,
      "outputs": []
    },
    {
      "cell_type": "code",
      "metadata": {
        "id": "0jRodLFwTss2",
        "colab_type": "code",
        "colab": {}
      },
      "source": [
        "# Attack a network, make sure batch_size = 1 for this block\n",
        "def attack_model(net, dataloader, epsilon, Pretrained=None):\n",
        "    if not Pretrained is None:\n",
        "        net.load_state_dict(torch.load(Pretrained))\n",
        "    correct = 0\n",
        "    adv_samples   = []\n",
        "    sample_labels = []\n",
        "    for _, data in enumerate(dataloader):\n",
        "        image, target = data\n",
        "        image, target = image.cuda(), target.cuda()\n",
        "\n",
        "        # Set requires_grad attribute of tensor.\n",
        "        image.requires_grad = True\n",
        "\n",
        "        # Forward pass the data through the model\n",
        "        output = net(image)\n",
        "        init_pred = output.max(1, keepdim=True)[1] # get the index of the max log-probability\n",
        "\n",
        "        # If the initial prediction is wrong, dont bother attacking, just move on\n",
        "        if init_pred.item() != target.item():\n",
        "            continue\n",
        "\n",
        "        # Calculate the loss\n",
        "        loss = F.nll_loss(output, target)\n",
        "\n",
        "        # Zero all existing gradients\n",
        "        net.zero_grad()\n",
        "\n",
        "        # Calculate gradients of model in backward pass\n",
        "        loss.backward()\n",
        "\n",
        "        # Collect datagrad\n",
        "        image_grad = image.grad.data\n",
        "\n",
        "        # Call FGSM Attack\n",
        "        perturbed_image = fgsm_attack(image, epsilon, image_grad)\n",
        "\n",
        "        # Save perturbed_images\n",
        "        adv_samples.append(perturbed_image.detach().cpu())\n",
        "        sample_labels.append(target)\n",
        "\n",
        "        # Re-classify the perturbed image\n",
        "        output = net(perturbed_image)\n",
        "\n",
        "        # Check for success\n",
        "        final_pred = output.max(1, keepdim=True)[1] # get the index of the max log-probability\n",
        "        if final_pred.item() == target.item():\n",
        "            correct += 1\n",
        "\n",
        "\n",
        "    # Calculate final accuracy for this epsilon\n",
        "    final_acc = correct/float(len(dataloader))\n",
        "    print(\"Epsilon: {}\\tTest Accuracy = {}\".format(epsilon, final_acc))\n",
        "\n",
        "    # Return the accuracy and an adversarial example\n",
        "    return adv_samples, sample_labels"
      ],
      "execution_count": 0,
      "outputs": []
    },
    {
      "cell_type": "code",
      "metadata": {
        "id": "x9rRtsktXMUY",
        "colab_type": "code",
        "outputId": "4bdad912-c5d9-4f40-805b-f55f700dcf16",
        "colab": {
          "base_uri": "https://localhost:8080/",
          "height": 35
        }
      },
      "source": [
        "# Attack LeNet\n",
        "Pretrained = save_root+'lenet_mnist.pt'\n",
        "epsilon = 0.6  # epsilon is the pixel-wise perturbation amount. A Hyper-param\n",
        "lenet_adv_samples, sample_labels = attack_model(lenet, mnist_testloader, epsilon=epsilon, Pretrained=Pretrained)"
      ],
      "execution_count": 0,
      "outputs": [
        {
          "output_type": "stream",
          "text": [
            "Epsilon: 0.6\tTest Accuracy = 0.1494\n"
          ],
          "name": "stdout"
        }
      ]
    },
    {
      "cell_type": "code",
      "metadata": {
        "id": "IYiAURsUchcK",
        "colab_type": "code",
        "outputId": "f4bbe13d-4a68-4d17-b4fb-1b2106f9cd6d",
        "colab": {
          "base_uri": "https://localhost:8080/",
          "height": 125
        }
      },
      "source": [
        "show_imgs = torch.cat(lenet_adv_samples[:10], dim=0)\n",
        "show_imgs = torchvision.utils.make_grid(show_imgs, nrow=10).numpy().transpose((1,2,0))\n",
        "plt.imshow(show_imgs)\n",
        "print(sample_labels[:10])"
      ],
      "execution_count": 0,
      "outputs": [
        {
          "output_type": "stream",
          "text": [
            "[tensor([7], device='cuda:0'), tensor([2], device='cuda:0'), tensor([1], device='cuda:0'), tensor([0], device='cuda:0'), tensor([4], device='cuda:0'), tensor([1], device='cuda:0'), tensor([4], device='cuda:0'), tensor([9], device='cuda:0'), tensor([9], device='cuda:0'), tensor([0], device='cuda:0')]\n"
          ],
          "name": "stdout"
        },
        {
          "output_type": "display_data",
          "data": {
            "image/png": "[encoded data removed]",
            "text/plain": [
              "<Figure size 432x288 with 1 Axes>"
            ]
          },
          "metadata": {
            "tags": []
          }
        }
      ]
    },
    {
      "cell_type": "code",
      "metadata": {
        "id": "a12KsadKfcRk",
        "colab_type": "code",
        "outputId": "40b7e9c2-e3e9-4c6a-e85e-0c2ed10b880a",
        "colab": {
          "base_uri": "https://localhost:8080/",
          "height": 35
        }
      },
      "source": [
        "# Attack AlexNet using LeNets' adv_samples.\n",
        "Pretrained = save_root+'alexnet_mnist.pt'\n",
        "transform_norm = transforms.Normalize((0.1307,), (0.3081,))\n",
        "dataloader = []\n",
        "for i, target in enumerate(sample_labels):\n",
        "    adv_sample = transform_norm(lenet_adv_samples[i][0])\n",
        "    dataloader.append((adv_sample.unsqueeze(dim=0), target))\n",
        "evaluate_model(alexnet, dataloader, tag='alexnet', Pretrained=Pretrained)\n"
      ],
      "execution_count": 0,
      "outputs": [
        {
          "output_type": "stream",
          "text": [
            "Testing the network...\n"
          ],
          "name": "stdout"
        }
      ]
    }
  ]
}